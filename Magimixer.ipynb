{
 "cells": [
  {
   "cell_type": "code",
   "execution_count": 1,
   "metadata": {},
   "outputs": [],
   "source": [
    "from fractions import Fraction\n",
    "\n",
    "# Given a list of numbers, divide into subsets \n",
    "# / {first num, ---} or * {first num, ---}\n",
    "\n",
    "# {first num, ---} +- rest\n",
    "\n",
    "# return the list of all expressions with evaluated result\n",
    "\n",
    "def magimixer(digits):\n",
    "    # Memoization in python\n",
    "    a = digits\n",
    "    a_dict = {}\n",
    "    for i in range(len(a)):\n",
    "        a_dict[2 ** i] = a[i]\n",
    "\n",
    "    add_mem = [None for i in range(2 ** len(a))]\n",
    "    mul_mem = [None for i in range(2 ** len(a))]\n",
    "    \n",
    "    def compute(bitset):\n",
    "        head_bitset = bitset & -bitset\n",
    "        if bitset is head_bitset:\n",
    "            val = a_dict[head_bitset]\n",
    "            return [(str(val), Fraction(val))]\n",
    "        else:\n",
    "            return compute_add(bitset) + compute_mul(bitset)\n",
    "        \n",
    "    def compute_add(bitset):\n",
    "        if add_mem[bitset] is None:\n",
    "            head_bitset = bitset & -bitset\n",
    "            head = a_dict[head_bitset]\n",
    "            if bitset is head_bitset:\n",
    "                add_mem[bitset] = [(str(head), Fraction(head))]\n",
    "            else:\n",
    "                tail_bitset = mask = bitset - head_bitset\n",
    "                result = []\n",
    "                while tail_bitset is not 0:\n",
    "                    # iterate over all possible nonempty combinations of subsets\n",
    "                    for (expr_head, val_head) in compute_mul(head_bitset):\n",
    "                        for (expr_tail, val_tail) in compute(tail_bitset):\n",
    "                            result.append( (\"(\" + expr_head + \"+\" + expr_tail + \")\", val_head + val_tail) )\n",
    "                            if val_head >= val_tail:\n",
    "                                result.append( (\"(\" + expr_head + \"-\" + expr_tail + \")\", val_head - val_tail) )\n",
    "                            else:\n",
    "                                result.append( (\"(\" + expr_tail + \"-\" + expr_head + \")\", val_tail - val_head) )\n",
    "                    tail_bitset -= 1\n",
    "                    tail_bitset &= mask\n",
    "                    head_bitset = bitset - tail_bitset\n",
    "                add_mem[bitset] = result\n",
    "        return add_mem[bitset]\n",
    "        \n",
    "    def compute_mul(bitset):\n",
    "        if mul_mem[bitset] is None:\n",
    "            head_bitset = bitset & -bitset\n",
    "            head = a_dict[head_bitset]\n",
    "            if bitset is head_bitset:\n",
    "                mul_mem[bitset] = [(str(head), Fraction(head))]\n",
    "            else:\n",
    "                tail_bitset = mask = bitset - head_bitset\n",
    "                result = []\n",
    "                while tail_bitset is not 0:\n",
    "                    # iterate over all possible nonempty combinations of subsets\n",
    "                    for (expr_head, val_head) in compute_add(head_bitset):\n",
    "                        for (expr_tail, val_tail) in compute(tail_bitset):\n",
    "                            result.append( (\"(\" + expr_head + \"*\" + expr_tail + \")\", val_head * val_tail) )\n",
    "                            if val_tail != Fraction(0, 1) and val_tail != Fraction(1, 1):\n",
    "                                result.append( (\"(\" + expr_head + \"/\" + expr_tail + \")\", val_head / val_tail) )\n",
    "                            if val_head != Fraction(0, 1) and val_head != Fraction(1, 1):\n",
    "                                result.append( (\"(\" + expr_tail + \"/\" + expr_head + \")\", val_tail / val_head) )\n",
    "                    tail_bitset -= 1\n",
    "                    tail_bitset &= mask\n",
    "                    head_bitset = bitset - tail_bitset\n",
    "                mul_mem[bitset] = result\n",
    "        return mul_mem[bitset]\n",
    "    \n",
    "    ans_dict = {}\n",
    "    for (expr, val) in compute(31):\n",
    "        if val.denominator == 1:\n",
    "            if val in ans_dict:\n",
    "                ans_dict[int(val)].add(expr)\n",
    "            else:\n",
    "                ans_dict[int(val)] = {expr}\n",
    "            \n",
    "    return ans_dict"
   ]
  },
  {
   "cell_type": "code",
   "execution_count": 2,
   "metadata": {},
   "outputs": [
    {
     "name": "stdout",
     "output_type": "stream",
     "text": [
      "62 {'((((4*5)-6)*4)+6)', '((4*((4*5)-6))+6)'}\n"
     ]
    }
   ],
   "source": [
    "for (num, methods) in magimixer((4,4,5,6,6)).items():\n",
    "    if 11 <= num <= 66 and 1 <= num % 10 <= 6 and len(methods) <= 2:\n",
    "        print(num, methods)"
   ]
  },
  {
   "cell_type": "code",
   "execution_count": 3,
   "metadata": {},
   "outputs": [],
   "source": [
    "from itertools import combinations_with_replacement\n",
    "\n",
    "hard_probs = {}\n",
    "\n",
    "for comb in combinations_with_replacement(range(1, 7), 5):\n",
    "    for (num, methods) in magimixer(comb).items():\n",
    "        if 11 <= num <= 66 and 1 <= num % 10 <= 6 and len(methods) <= 2:\n",
    "            if comb in hard_probs:\n",
    "                hard_probs[comb].add(num)\n",
    "            else:\n",
    "                hard_probs[comb] = {num}"
   ]
  },
  {
   "cell_type": "code",
   "execution_count": 4,
   "metadata": {
    "scrolled": true
   },
   "outputs": [],
   "source": [
    "prob_list = list(hard_probs.items())"
   ]
  },
  {
   "cell_type": "code",
   "execution_count": 5,
   "metadata": {},
   "outputs": [],
   "source": [
    "prob_list = []\n",
    "for (comb, values) in hard_probs.items():\n",
    "    for value in values:\n",
    "        prob_list.append( (comb, value) )"
   ]
  },
  {
   "cell_type": "code",
   "execution_count": 6,
   "metadata": {},
   "outputs": [],
   "source": [
    "from random import choice"
   ]
  },
  {
   "cell_type": "code",
   "execution_count": 7,
   "metadata": {},
   "outputs": [],
   "source": [
    "prob = choice(prob_list)"
   ]
  },
  {
   "cell_type": "code",
   "execution_count": 8,
   "metadata": {},
   "outputs": [
    {
     "name": "stdout",
     "output_type": "stream",
     "text": [
      "((1, 1, 2, 6, 6), 46)\n"
     ]
    }
   ],
   "source": [
    "print(prob)"
   ]
  },
  {
   "cell_type": "code",
   "execution_count": 9,
   "metadata": {},
   "outputs": [
    {
     "data": {
      "text/plain": [
       "{'((((2+6)*6)-1)-1)', '(((1+(1+6))*6)-2)'}"
      ]
     },
     "execution_count": 9,
     "metadata": {},
     "output_type": "execute_result"
    }
   ],
   "source": [
    "magimixer(prob[0])[prob[1]]"
   ]
  },
  {
   "cell_type": "code",
   "execution_count": null,
   "metadata": {},
   "outputs": [],
   "source": []
  }
 ],
 "metadata": {
  "kernelspec": {
   "display_name": "Python 3",
   "language": "python",
   "name": "python3"
  },
  "language_info": {
   "codemirror_mode": {
    "name": "ipython",
    "version": 3
   },
   "file_extension": ".py",
   "mimetype": "text/x-python",
   "name": "python",
   "nbconvert_exporter": "python",
   "pygments_lexer": "ipython3",
   "version": "3.6.5"
  }
 },
 "nbformat": 4,
 "nbformat_minor": 2
}
